{
 "cells": [
  {
   "cell_type": "code",
   "execution_count": 1,
   "id": "7af0e752",
   "metadata": {},
   "outputs": [],
   "source": [
    "# Calculadora em Python\n",
    "\n",
    "# Desenvolva uma calculadora em Python com tudo que você aprendeu nos capítulos até aqui no curso. \n",
    "# A solução será apresentada no próximo capítulo!abs"
   ]
  },
  {
   "cell_type": "code",
   "execution_count": 2,
   "id": "ebc93a35",
   "metadata": {},
   "outputs": [
    {
     "name": "stdout",
     "output_type": "stream",
     "text": [
      "\n",
      "******************* Calculadora em Python *******************\n"
     ]
    }
   ],
   "source": [
    "print(\"\\n******************* Calculadora em Python *******************\")"
   ]
  },
  {
   "cell_type": "code",
   "execution_count": 3,
   "id": "acb86248",
   "metadata": {},
   "outputs": [],
   "source": [
    "#Função para somar\n",
    "\n",
    "def somar(a, b):\n",
    "    return a + b"
   ]
  },
  {
   "cell_type": "code",
   "execution_count": 4,
   "id": "7ed3f96b",
   "metadata": {},
   "outputs": [],
   "source": [
    "#Função para subtrair\n",
    "\n",
    "def subtrair(a, b):\n",
    "    return a - b"
   ]
  },
  {
   "cell_type": "code",
   "execution_count": 5,
   "id": "ea152051",
   "metadata": {},
   "outputs": [],
   "source": [
    "#Função para multuplicar\n",
    "\n",
    "def multiplicar(a, b):\n",
    "    return a * b"
   ]
  },
  {
   "cell_type": "code",
   "execution_count": 6,
   "id": "d571be8b",
   "metadata": {},
   "outputs": [],
   "source": [
    "#Função para dividir\n",
    "\n",
    "def dividir(a, b):\n",
    "    if b != 0:\n",
    "        return a / b\n",
    "    else:\n",
    "        print('Divisão não permitida')"
   ]
  },
  {
   "cell_type": "code",
   "execution_count": 7,
   "id": "171253f8",
   "metadata": {},
   "outputs": [
    {
     "name": "stdout",
     "output_type": "stream",
     "text": [
      "Digite o primeiro número: 3\n",
      "Digite o segundo número: 9\n",
      "Digite a operação desejada (+, -, *, /): *\n"
     ]
    }
   ],
   "source": [
    "#Solicite ao usuário os números e a operação desejada\n",
    "\n",
    "num1 = float(input('Digite o primeiro número: '))\n",
    "num2 = float(input('Digite o segundo número: '))\n",
    "operacao = input('Digite a operação desejada (+, -, *, /): ')"
   ]
  },
  {
   "cell_type": "code",
   "execution_count": 8,
   "id": "6349bba6",
   "metadata": {},
   "outputs": [],
   "source": [
    "#Verificar operação e realizar o cálculo\n",
    "\n",
    "if operacao == '+':\n",
    "    resultado = somar(num1, num2)\n",
    "elif operacao == '-':\n",
    "    resultado = subtrair(num1, num2)\n",
    "elif operacao == '*':\n",
    "    resultado = multiplicar(num1, num2)\n",
    "elif operacao == '/':\n",
    "    resultado = dividir(num1, num2)\n",
    "else:\n",
    "    print('Operação inválida')"
   ]
  },
  {
   "cell_type": "code",
   "execution_count": 9,
   "id": "ce89a69a",
   "metadata": {},
   "outputs": [
    {
     "name": "stdout",
     "output_type": "stream",
     "text": [
      "Resultado:  27.0\n"
     ]
    }
   ],
   "source": [
    "#Resultado\n",
    "\n",
    "print('Resultado: ', resultado)"
   ]
  },
  {
   "cell_type": "code",
   "execution_count": null,
   "id": "ffee4d72",
   "metadata": {},
   "outputs": [],
   "source": []
  }
 ],
 "metadata": {
  "kernelspec": {
   "display_name": "Python 3 (ipykernel)",
   "language": "python",
   "name": "python3"
  },
  "language_info": {
   "codemirror_mode": {
    "name": "ipython",
    "version": 3
   },
   "file_extension": ".py",
   "mimetype": "text/x-python",
   "name": "python",
   "nbconvert_exporter": "python",
   "pygments_lexer": "ipython3",
   "version": "3.9.13"
  }
 },
 "nbformat": 4,
 "nbformat_minor": 5
}
